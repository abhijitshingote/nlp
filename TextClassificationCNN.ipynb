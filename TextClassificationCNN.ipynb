{
 "cells": [
  {
   "cell_type": "markdown",
   "id": "3d021fb9",
   "metadata": {},
   "source": [
    "## CNN Text Classification with Embedding\n",
    "### Important - After tokenizing sequences, they are tokenized as 1 ---- len(vocabulary)\n",
    "## in the keras Embedding layer, the input_dim = len(vocabulary) + 1 (this is if num_words is not provided when initializing Tokenizer)\n",
    "## If num_words is passed to Tokenizer, use that same value as input_dim to Embedding layer(no need to add 1)"
   ]
  },
  {
   "cell_type": "markdown",
   "id": "ca6bc83b",
   "metadata": {},
   "source": [
    "# Ouput Layer Activation: When using SIGMOID instead of softmax , accuracy jumped from 86% to 99%"
   ]
  },
  {
   "cell_type": "code",
   "execution_count": 1,
   "id": "ad7d717b",
   "metadata": {},
   "outputs": [],
   "source": [
    "import tensorflow as tf\n",
    "import numpy as np\n",
    "from tensorflow.keras.preprocessing.text import Tokenizer\n",
    "from tensorflow.keras.preprocessing.sequence import pad_sequences\n",
    "import pandas as pd\n",
    "from sklearn.model_selection import train_test_split"
   ]
  },
  {
   "cell_type": "markdown",
   "id": "39dae295",
   "metadata": {},
   "source": [
    "input layer is going to be an indexed representation of the text. So shape will be\n",
    "N*length of sequences\n",
    "After embedding, output shape will be N*length of sequence * length of embedding vector"
   ]
  },
  {
   "cell_type": "code",
   "execution_count": 2,
   "id": "97b3c377",
   "metadata": {},
   "outputs": [
    {
     "data": {
      "text/plain": [
       "{'encoding': 'Windows-1252', 'confidence': 0.7270322499829184, 'language': ''}"
      ]
     },
     "execution_count": 2,
     "metadata": {},
     "output_type": "execute_result"
    }
   ],
   "source": [
    "import chardet\n",
    "with open('spam.csv', 'rb') as rawdata:\n",
    "    result = chardet.detect(rawdata.read(100000))\n",
    "result"
   ]
  },
  {
   "cell_type": "code",
   "execution_count": 3,
   "id": "a781db3a",
   "metadata": {},
   "outputs": [
    {
     "name": "stderr",
     "output_type": "stream",
     "text": [
      "C:\\Users\\AbhijitShingote\\.conda\\envs\\tf2.6_092021\\lib\\site-packages\\IPython\\core\\interactiveshell.py:3441: FutureWarning: The error_bad_lines argument has been deprecated and will be removed in a future version.\n",
      "\n",
      "\n",
      "  exec(code_obj, self.user_global_ns, self.user_ns)\n"
     ]
    }
   ],
   "source": [
    "df=pd.read_csv('spam.csv',error_bad_lines=False,encoding= 'Windows-1252')\n",
    "X=df['v2']\n",
    "y=df['v1'].apply(lambda x:0 if x=='spam' else 1)\n",
    "X_train,X_test,y_train,y_test =train_test_split(X,y,test_size=0.25)"
   ]
  },
  {
   "cell_type": "code",
   "execution_count": 4,
   "id": "ce04ac6b",
   "metadata": {},
   "outputs": [],
   "source": [
    "num_words=None\n",
    "embedding_length=20\n",
    "tok=Tokenizer(num_words=num_words)\n",
    "tok.fit_on_texts(X_train)\n",
    "X_train=tok.texts_to_sequences(X_train)\n",
    "X_test=tok.texts_to_sequences(X_test)\n",
    "X_train=pad_sequences(X_train)\n",
    "X_test=pad_sequences(X_test,maxlen=X_train.shape[1])"
   ]
  },
  {
   "cell_type": "code",
   "execution_count": 5,
   "id": "04a75ed1",
   "metadata": {},
   "outputs": [
    {
     "data": {
      "text/plain": [
       "121"
      ]
     },
     "execution_count": 5,
     "metadata": {},
     "output_type": "execute_result"
    }
   ],
   "source": [
    "maxsequencelength=X_train.shape[1]\n",
    "maxsequencelength"
   ]
  },
  {
   "cell_type": "code",
   "execution_count": 6,
   "id": "26322f94",
   "metadata": {},
   "outputs": [
    {
     "data": {
      "text/plain": [
       "((4179, 121), (4179,))"
      ]
     },
     "execution_count": 6,
     "metadata": {},
     "output_type": "execute_result"
    }
   ],
   "source": [
    "X_train.shape,y_train.shape"
   ]
  },
  {
   "cell_type": "code",
   "execution_count": 7,
   "id": "cf77ee66",
   "metadata": {},
   "outputs": [
    {
     "data": {
      "text/plain": [
       "7642"
      ]
     },
     "execution_count": 7,
     "metadata": {},
     "output_type": "execute_result"
    }
   ],
   "source": [
    "input_dim=num_words if num_words else (max(tok.word_index.values())+1)\n",
    "input_dim"
   ]
  },
  {
   "cell_type": "code",
   "execution_count": 8,
   "id": "324bba1c",
   "metadata": {},
   "outputs": [
    {
     "name": "stdout",
     "output_type": "stream",
     "text": [
      "Model: \"sequential\"\n",
      "_________________________________________________________________\n",
      "Layer (type)                 Output Shape              Param #   \n",
      "=================================================================\n",
      "embedding (Embedding)        (None, 121, 20)           152840    \n",
      "_________________________________________________________________\n",
      "conv1d (Conv1D)              (None, 119, 16)           976       \n",
      "_________________________________________________________________\n",
      "max_pooling1d (MaxPooling1D) (None, 39, 16)            0         \n",
      "_________________________________________________________________\n",
      "conv1d_1 (Conv1D)            (None, 37, 32)            1568      \n",
      "_________________________________________________________________\n",
      "max_pooling1d_1 (MaxPooling1 (None, 12, 32)            0         \n",
      "_________________________________________________________________\n",
      "conv1d_2 (Conv1D)            (None, 10, 64)            6208      \n",
      "_________________________________________________________________\n",
      "global_max_pooling1d (Global (None, 64)                0         \n",
      "_________________________________________________________________\n",
      "dense (Dense)                (None, 1)                 65        \n",
      "=================================================================\n",
      "Total params: 161,657\n",
      "Trainable params: 161,657\n",
      "Non-trainable params: 0\n",
      "_________________________________________________________________\n"
     ]
    }
   ],
   "source": [
    "model=tf.keras.Sequential()\n",
    "model.add(tf.keras.layers.Embedding(input_dim=input_dim,output_dim=embedding_length,input_length=maxsequencelength))\n",
    "model.add(tf.keras.layers.Conv1D(16,3,activation='relu'))\n",
    "model.add(tf.keras.layers.MaxPooling1D(3))\n",
    "model.add(tf.keras.layers.Conv1D(32,3,activation='relu'))\n",
    "model.add(tf.keras.layers.MaxPooling1D(3))\n",
    "model.add(tf.keras.layers.Conv1D(64,3,activation='relu'))\n",
    "model.add(tf.keras.layers.GlobalMaxPooling1D())\n",
    "model.add(tf.keras.layers.Dense(1,activation='sigmoid'))\n",
    "model.summary()"
   ]
  },
  {
   "cell_type": "code",
   "execution_count": 9,
   "id": "c2f0f21a",
   "metadata": {},
   "outputs": [],
   "source": [
    "model.compile(loss='binary_crossentropy',metrics=['accuracy'])"
   ]
  },
  {
   "cell_type": "code",
   "execution_count": 10,
   "id": "ef768bc4",
   "metadata": {},
   "outputs": [
    {
     "name": "stdout",
     "output_type": "stream",
     "text": [
      "Epoch 1/5\n",
      "131/131 [==============================] - 7s 13ms/step - loss: 0.3976 - accuracy: 0.8636 - val_loss: 0.3136 - val_accuracy: 0.8658\n",
      "Epoch 2/5\n",
      "131/131 [==============================] - 1s 10ms/step - loss: 0.1822 - accuracy: 0.9340 - val_loss: 0.1106 - val_accuracy: 0.9663\n",
      "Epoch 3/5\n",
      "131/131 [==============================] - 6s 45ms/step - loss: 0.0760 - accuracy: 0.9787 - val_loss: 0.0774 - val_accuracy: 0.9777\n",
      "Epoch 4/5\n",
      "131/131 [==============================] - 4s 32ms/step - loss: 0.0467 - accuracy: 0.9864 - val_loss: 0.0916 - val_accuracy: 0.9749\n",
      "Epoch 5/5\n",
      "131/131 [==============================] - 4s 34ms/step - loss: 0.0341 - accuracy: 0.9897 - val_loss: 0.0858 - val_accuracy: 0.9785\n"
     ]
    }
   ],
   "source": [
    "# Train the model\n",
    "r = model.fit(x=X_train, y=y_train, epochs=5, validation_data=(X_test, y_test))"
   ]
  },
  {
   "cell_type": "code",
   "execution_count": 11,
   "id": "10bda6d9",
   "metadata": {},
   "outputs": [
    {
     "data": {
      "image/png": "[encoded data removed]",
      "text/plain": [
       "<Figure size 432x288 with 1 Axes>"
      ]
     },
     "metadata": {
      "needs_background": "light"
     },
     "output_type": "display_data"
    }
   ],
   "source": [
    "import matplotlib.pyplot as plt\n",
    "plt.plot(r.history['loss'], label='Loss')\n",
    "plt.plot(r.history['val_loss'], label='Validation Loss')\n",
    "plt.legend()\n",
    "plt.show()"
   ]
  },
  {
   "cell_type": "code",
   "execution_count": 12,
   "id": "21ad72d8",
   "metadata": {},
   "outputs": [
    {
     "data": {
      "image/png": "[encoded data removed]",
      "text/plain": [
       "<Figure size 432x288 with 1 Axes>"
      ]
     },
     "metadata": {
      "needs_background": "light"
     },
     "output_type": "display_data"
    }
   ],
   "source": [
    "plt.plot(r.history['accuracy'], label='Accuracy')\n",
    "plt.plot(r.history['val_accuracy'], label='Validation accuracy')\n",
    "plt.legend()\n",
    "plt.show()"
   ]
  },
  {
   "cell_type": "code",
   "execution_count": null,
   "id": "47eb4e14",
   "metadata": {},
   "outputs": [],
   "source": []
  }
 ],
 "metadata": {
  "kernelspec": {
   "display_name": "Python 3 (ipykernel)",
   "language": "python",
   "name": "python3"
  },
  "language_info": {
   "codemirror_mode": {
    "name": "ipython",
    "version": 3
   },
   "file_extension": ".py",
   "mimetype": "text/x-python",
   "name": "python",
   "nbconvert_exporter": "python",
   "pygments_lexer": "ipython3",
   "version": "3.7.11"
  }
 },
 "nbformat": 4,
 "nbformat_minor": 5
}
