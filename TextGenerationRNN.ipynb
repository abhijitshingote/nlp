{
 "cells": [
  {
   "cell_type": "code",
   "execution_count": 25,
   "id": "0172136b",
   "metadata": {},
   "outputs": [],
   "source": [
    "import tensorflow as tf\n",
    "import pandas as pd\n",
    "import numpy as np\n",
    "import matplotlib.pyplot as plt\n",
    "import requests"
   ]
  },
  {
   "cell_type": "code",
   "execution_count": 26,
   "id": "c8bf3d7c",
   "metadata": {},
   "outputs": [
    {
     "name": "stdout",
     "output_type": "stream",
     "text": [
      "Requirement already satisfied: beautifulsoup4 in c:\\users\\abhijitshingote\\.conda\\envs\\tf2.6_092021\\lib\\site-packages (4.10.0)\n",
      "Requirement already satisfied: soupsieve>1.2 in c:\\users\\abhijitshingote\\.conda\\envs\\tf2.6_092021\\lib\\site-packages (from beautifulsoup4) (2.2.1)\n"
     ]
    }
   ],
   "source": [
    "!pip install beautifulsoup4"
   ]
  },
  {
   "cell_type": "code",
   "execution_count": 27,
   "id": "1bc60975",
   "metadata": {},
   "outputs": [],
   "source": [
    "from bs4 import BeautifulSoup\n",
    "from string import punctuation"
   ]
  },
  {
   "cell_type": "code",
   "execution_count": 28,
   "id": "c266808b",
   "metadata": {},
   "outputs": [],
   "source": [
    "response=requests.get('http://shakespeare.mit.edu/winters_tale/full.html')"
   ]
  },
  {
   "cell_type": "code",
   "execution_count": 29,
   "id": "286cb37a",
   "metadata": {},
   "outputs": [],
   "source": [
    "text=BeautifulSoup(response.text)"
   ]
  },
  {
   "cell_type": "code",
   "execution_count": 30,
   "id": "4d3dd877",
   "metadata": {},
   "outputs": [],
   "source": [
    "text=text.get_text()"
   ]
  },
  {
   "cell_type": "code",
   "execution_count": 31,
   "id": "ea25194c",
   "metadata": {},
   "outputs": [],
   "source": [
    "def clean_text(text):\n",
    "    text=text.split('\\n')\n",
    "    text=[t.strip() for t in text if t.strip()!='']\n",
    "    text=[''.join([cleanedtext for cleanedtext in t if cleanedtext not in punctuation]) for t in text if text]\n",
    "    text=[t.strip() for t in text]\n",
    "    text=[t for t in text if len(t.split())>7]\n",
    "    return text"
   ]
  },
  {
   "cell_type": "code",
   "execution_count": 32,
   "id": "f74f9e1a",
   "metadata": {},
   "outputs": [],
   "source": [
    "text=clean_text(text)"
   ]
  },
  {
   "cell_type": "code",
   "execution_count": 33,
   "id": "ce58a4e9",
   "metadata": {},
   "outputs": [],
   "source": [
    "tok=tf.keras.preprocessing.text.Tokenizer()"
   ]
  },
  {
   "cell_type": "code",
   "execution_count": 34,
   "id": "d7ceb4d1",
   "metadata": {},
   "outputs": [],
   "source": [
    "tok.fit_on_texts(text)"
   ]
  },
  {
   "cell_type": "code",
   "execution_count": 35,
   "id": "65cd77ab",
   "metadata": {},
   "outputs": [],
   "source": [
    "seq=tok.texts_to_sequences(text)"
   ]
  },
  {
   "cell_type": "code",
   "execution_count": 36,
   "id": "2f014a0a",
   "metadata": {},
   "outputs": [],
   "source": [
    "seq=tf.keras.preprocessing.sequence.pad_sequences(seq,maxlen=5)"
   ]
  },
  {
   "cell_type": "code",
   "execution_count": 37,
   "id": "aca5e197",
   "metadata": {},
   "outputs": [
    {
     "data": {
      "text/plain": [
       "2866"
      ]
     },
     "execution_count": 37,
     "metadata": {},
     "output_type": "execute_result"
    }
   ],
   "source": [
    "max(tok.word_index.values())"
   ]
  },
  {
   "cell_type": "code",
   "execution_count": 39,
   "id": "36ef29c4",
   "metadata": {},
   "outputs": [],
   "source": [
    "X,y=seq[:,:-1],seq[:,-1]"
   ]
  },
  {
   "cell_type": "code",
   "execution_count": 40,
   "id": "187582bd",
   "metadata": {},
   "outputs": [
    {
     "data": {
      "text/plain": [
       "((1847, 4), (1847,))"
      ]
     },
     "execution_count": 40,
     "metadata": {},
     "output_type": "execute_result"
    }
   ],
   "source": [
    "X.shape,y.shape"
   ]
  },
  {
   "cell_type": "code",
   "execution_count": 41,
   "id": "9bcdaab7",
   "metadata": {},
   "outputs": [],
   "source": [
    "model=tf.keras.models.Sequential()\n",
    "model.add(tf.keras.layers.Embedding(input_dim=max(tok.word_index.values()),output_dim=5,input_length=4))\n",
    "model.add(tf.keras.layers.LSTM(5))\n",
    "model.add(tf.keras.layers.Dense(max(tok.word_index.values()),activation='softmax'))"
   ]
  },
  {
   "cell_type": "code",
   "execution_count": 42,
   "id": "db3651ce",
   "metadata": {},
   "outputs": [
    {
     "name": "stdout",
     "output_type": "stream",
     "text": [
      "Model: \"sequential_1\"\n",
      "_________________________________________________________________\n",
      "Layer (type)                 Output Shape              Param #   \n",
      "=================================================================\n",
      "embedding_1 (Embedding)      (None, 4, 5)              14330     \n",
      "_________________________________________________________________\n",
      "lstm_1 (LSTM)                (None, 5)                 220       \n",
      "_________________________________________________________________\n",
      "dense_1 (Dense)              (None, 2866)              17196     \n",
      "=================================================================\n",
      "Total params: 31,746\n",
      "Trainable params: 31,746\n",
      "Non-trainable params: 0\n",
      "_________________________________________________________________\n"
     ]
    }
   ],
   "source": [
    "model.summary()"
   ]
  },
  {
   "cell_type": "code",
   "execution_count": 43,
   "id": "96ce37eb",
   "metadata": {},
   "outputs": [],
   "source": [
    "model.compile(optimizer=tf.keras.optimizers.Adam(learning_rate=5e-2),loss='sparse_categorical_crossentropy',metrics=['accuracy'])"
   ]
  },
  {
   "cell_type": "code",
   "execution_count": 44,
   "id": "92641455",
   "metadata": {},
   "outputs": [],
   "source": [
    "def scheduler(epoch, lr):\n",
    "  if epoch < 20:\n",
    "    return lr\n",
    "  else:\n",
    "    return lr * 0.75\n",
    "callback = tf.keras.callbacks.LearningRateScheduler(scheduler)"
   ]
  },
  {
   "cell_type": "code",
   "execution_count": 45,
   "id": "e4dec725",
   "metadata": {},
   "outputs": [],
   "source": [
    "reduce_lr = tf.keras.callbacks.ReduceLROnPlateau(monitor='loss',\n",
    "                              factor=0.25, patience=3, min_lr=0.0001,verbose=1)"
   ]
  },
  {
   "cell_type": "code",
   "execution_count": 46,
   "id": "5ef9fce1",
   "metadata": {
    "scrolled": true
   },
   "outputs": [
    {
     "name": "stdout",
     "output_type": "stream",
     "text": [
      "Epoch 1/50\n",
      "58/58 [==============================] - 2s 7ms/step - loss: 7.4733 - accuracy: 0.0130\n",
      "Epoch 2/50\n",
      "58/58 [==============================] - 0s 6ms/step - loss: 6.4414 - accuracy: 0.0189\n",
      "Epoch 3/50\n",
      "58/58 [==============================] - 0s 6ms/step - loss: 6.1028 - accuracy: 0.0292\n",
      "Epoch 4/50\n",
      "58/58 [==============================] - 0s 6ms/step - loss: 5.8388 - accuracy: 0.0309\n",
      "Epoch 5/50\n",
      "58/58 [==============================] - 0s 6ms/step - loss: 5.6022 - accuracy: 0.0325\n",
      "Epoch 6/50\n",
      "58/58 [==============================] - 0s 6ms/step - loss: 5.3507 - accuracy: 0.0417\n",
      "Epoch 7/50\n",
      "58/58 [==============================] - 0s 6ms/step - loss: 5.1366 - accuracy: 0.0525\n",
      "Epoch 8/50\n",
      "58/58 [==============================] - 0s 6ms/step - loss: 4.9310 - accuracy: 0.0650\n",
      "Epoch 9/50\n",
      "58/58 [==============================] - 0s 6ms/step - loss: 4.7938 - accuracy: 0.0747\n",
      "Epoch 10/50\n",
      "58/58 [==============================] - 0s 6ms/step - loss: 4.6665 - accuracy: 0.0823\n",
      "Epoch 11/50\n",
      "58/58 [==============================] - 0s 6ms/step - loss: 4.5742 - accuracy: 0.0931\n",
      "Epoch 12/50\n",
      "58/58 [==============================] - 0s 6ms/step - loss: 4.4743 - accuracy: 0.1002\n",
      "Epoch 13/50\n",
      "58/58 [==============================] - 0s 6ms/step - loss: 4.3591 - accuracy: 0.1029\n",
      "Epoch 14/50\n",
      "58/58 [==============================] - 0s 6ms/step - loss: 4.2812 - accuracy: 0.1077\n",
      "Epoch 15/50\n",
      "58/58 [==============================] - 0s 6ms/step - loss: 4.2277 - accuracy: 0.1104\n",
      "Epoch 16/50\n",
      "58/58 [==============================] - 0s 6ms/step - loss: 4.1884 - accuracy: 0.1099\n",
      "Epoch 17/50\n",
      "58/58 [==============================] - 0s 6ms/step - loss: 4.0789 - accuracy: 0.1148\n",
      "Epoch 18/50\n",
      "58/58 [==============================] - 0s 6ms/step - loss: 4.0256 - accuracy: 0.1299\n",
      "Epoch 19/50\n",
      "58/58 [==============================] - 0s 6ms/step - loss: 3.9730 - accuracy: 0.1289\n",
      "Epoch 20/50\n",
      "58/58 [==============================] - 0s 6ms/step - loss: 3.9289 - accuracy: 0.1391\n",
      "Epoch 21/50\n",
      "58/58 [==============================] - 0s 6ms/step - loss: 3.8070 - accuracy: 0.1505\n",
      "Epoch 22/50\n",
      "58/58 [==============================] - 0s 6ms/step - loss: 3.6432 - accuracy: 0.1597\n",
      "Epoch 23/50\n",
      "58/58 [==============================] - 0s 6ms/step - loss: 3.5270 - accuracy: 0.1803\n",
      "Epoch 24/50\n",
      "58/58 [==============================] - 0s 6ms/step - loss: 3.4613 - accuracy: 0.1927\n",
      "Epoch 25/50\n",
      "58/58 [==============================] - 0s 6ms/step - loss: 3.4055 - accuracy: 0.2063\n",
      "Epoch 26/50\n",
      "58/58 [==============================] - 0s 6ms/step - loss: 3.3708 - accuracy: 0.2106\n",
      "Epoch 27/50\n",
      "58/58 [==============================] - 0s 6ms/step - loss: 3.3400 - accuracy: 0.2214\n",
      "Epoch 28/50\n",
      "58/58 [==============================] - 0s 6ms/step - loss: 3.3196 - accuracy: 0.2263\n",
      "Epoch 29/50\n",
      "58/58 [==============================] - 0s 6ms/step - loss: 3.3046 - accuracy: 0.2290\n",
      "Epoch 30/50\n",
      "58/58 [==============================] - 0s 6ms/step - loss: 3.2935 - accuracy: 0.2339\n",
      "Epoch 31/50\n",
      "58/58 [==============================] - 0s 6ms/step - loss: 3.2850 - accuracy: 0.2409\n",
      "Epoch 32/50\n",
      "58/58 [==============================] - 0s 6ms/step - loss: 3.2790 - accuracy: 0.2361\n",
      "Epoch 33/50\n",
      "58/58 [==============================] - 0s 6ms/step - loss: 3.2741 - accuracy: 0.2409\n",
      "Epoch 34/50\n",
      "58/58 [==============================] - 0s 6ms/step - loss: 3.2707 - accuracy: 0.2409\n",
      "Epoch 35/50\n",
      "58/58 [==============================] - 0s 6ms/step - loss: 3.2680 - accuracy: 0.2409\n",
      "Epoch 36/50\n",
      "58/58 [==============================] - 0s 6ms/step - loss: 3.2659 - accuracy: 0.2409\n",
      "Epoch 37/50\n",
      "58/58 [==============================] - 0s 6ms/step - loss: 3.2643 - accuracy: 0.2409\n",
      "Epoch 38/50\n",
      "58/58 [==============================] - 0s 6ms/step - loss: 3.2632 - accuracy: 0.2420\n",
      "Epoch 39/50\n",
      "58/58 [==============================] - 0s 6ms/step - loss: 3.2623 - accuracy: 0.2431\n",
      "Epoch 40/50\n",
      "58/58 [==============================] - 0s 7ms/step - loss: 3.2617 - accuracy: 0.2426\n",
      "Epoch 41/50\n",
      "58/58 [==============================] - 0s 6ms/step - loss: 3.2612 - accuracy: 0.2431\n",
      "Epoch 42/50\n",
      "58/58 [==============================] - 0s 6ms/step - loss: 3.2609 - accuracy: 0.2436\n",
      "Epoch 43/50\n",
      "58/58 [==============================] - 0s 6ms/step - loss: 3.2606 - accuracy: 0.2431\n",
      "Epoch 44/50\n",
      "58/58 [==============================] - 0s 6ms/step - loss: 3.2604 - accuracy: 0.2436\n",
      "Epoch 45/50\n",
      "58/58 [==============================] - 0s 7ms/step - loss: 3.2602 - accuracy: 0.2436\n",
      "Epoch 46/50\n",
      "58/58 [==============================] - 0s 7ms/step - loss: 3.2601 - accuracy: 0.2436\n",
      "Epoch 47/50\n",
      "58/58 [==============================] - 0s 6ms/step - loss: 3.2600 - accuracy: 0.2436\n",
      "Epoch 48/50\n",
      "58/58 [==============================] - 0s 6ms/step - loss: 3.2599 - accuracy: 0.2436\n",
      "Epoch 49/50\n",
      "58/58 [==============================] - 0s 6ms/step - loss: 3.2599 - accuracy: 0.2442\n",
      "Epoch 50/50\n",
      "58/58 [==============================] - 0s 7ms/step - loss: 3.2598 - accuracy: 0.2442\n"
     ]
    }
   ],
   "source": [
    "r=model.fit(X,y,epochs=50,callbacks=[callback])"
   ]
  },
  {
   "cell_type": "code",
   "execution_count": 47,
   "id": "24162021",
   "metadata": {},
   "outputs": [
    {
     "data": {
      "image/png": "[encoded data removed]",
      "text/plain": [
       "<Figure size 432x288 with 1 Axes>"
      ]
     },
     "metadata": {
      "needs_background": "light"
     },
     "output_type": "display_data"
    }
   ],
   "source": [
    "import matplotlib.pyplot as plt\n",
    "plt.plot(r.history['loss'], label='Loss')\n",
    "plt.plot(r.history['accuracy'], label='Accuracy')\n",
    "plt.legend()\n",
    "plt.show()"
   ]
  },
  {
   "cell_type": "code",
   "execution_count": 48,
   "id": "75e329d3",
   "metadata": {},
   "outputs": [
    {
     "data": {
      "text/plain": [
       "[('camillo to visit bohemia', 'on'),\n",
       " ('my services are now', 'on'),\n",
       " ('as i have said', 'great'),\n",
       " ('summer the king of', 'sicilia'),\n",
       " ('which he justly owes', 'him'),\n",
       " ('shame us we will', 'be'),\n",
       " ('the freedom of my', 'knowledge'),\n",
       " ('such magnificencein so rarei', 'know'),\n",
       " ('will give you sleepy', 'drinks'),\n",
       " ('praise us as little', 'accuse')]"
      ]
     },
     "execution_count": 48,
     "metadata": {},
     "output_type": "execute_result"
    }
   ],
   "source": [
    "# Actual\n",
    "list(zip(tok.sequences_to_texts(X[:10]),\\\n",
    "         tok.sequences_to_texts(y[:10].reshape(-1,1))))"
   ]
  },
  {
   "cell_type": "code",
   "execution_count": 49,
   "id": "48cb9ef7",
   "metadata": {},
   "outputs": [
    {
     "data": {
      "text/plain": [
       "[('camillo to visit bohemia', 'can'),\n",
       " ('my services are now', 'a'),\n",
       " ('as i have said', 'sir'),\n",
       " ('summer the king of', 'access'),\n",
       " ('which he justly owes', 'him'),\n",
       " ('shame us we will', 'it'),\n",
       " ('the freedom of my', 'lord'),\n",
       " ('such magnificencein so rarei', 'know'),\n",
       " ('will give you sleepy', 'kind'),\n",
       " ('praise us as little', 'life')]"
      ]
     },
     "execution_count": 49,
     "metadata": {},
     "output_type": "execute_result"
    }
   ],
   "source": [
    "# Predicted\n",
    "list(zip(tok.sequences_to_texts(X[:10]),\\\n",
    "         [tok.index_word[np.argmax(each)] for each in model.predict(X[:10])]))"
   ]
  },
  {
   "cell_type": "code",
   "execution_count": null,
   "id": "56a8bc74",
   "metadata": {},
   "outputs": [],
   "source": []
  }
 ],
 "metadata": {
  "kernelspec": {
   "display_name": "Python 3 (ipykernel)",
   "language": "python",
   "name": "python3"
  },
  "language_info": {
   "codemirror_mode": {
    "name": "ipython",
    "version": 3
   },
   "file_extension": ".py",
   "mimetype": "text/x-python",
   "name": "python",
   "nbconvert_exporter": "python",
   "pygments_lexer": "ipython3",
   "version": "3.7.11"
  }
 },
 "nbformat": 4,
 "nbformat_minor": 5
}
