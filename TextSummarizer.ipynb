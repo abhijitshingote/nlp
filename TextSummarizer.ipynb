{
 "cells": [
  {
   "cell_type": "markdown",
   "metadata": {},
   "source": [
    "## Text Summarizer"
   ]
  },
  {
   "cell_type": "markdown",
   "metadata": {},
   "source": [
    "Algorithm\n",
    "1. Clean up the text(remove stop words, punctuations,get lemma,lower)\n",
    "2. Feed text through a counter to make a dict tokens with there frequency\n",
    "3. For each sentence, calculate a score - For each word in the sentence, if in dictionary add the score other wise ignore\n",
    "4. Summarize by picking 20-30% of  sentences by highest sentence score\n",
    "\n",
    "NOTE: An obvious flaw in this approach is longer the sentence, higher the likelihood of that sentence scoring a high importance score. Need to normalize for that. perhaps divide the score by the length of the sentence"
   ]
  },
  {
   "cell_type": "code",
   "execution_count": 5,
   "metadata": {},
   "outputs": [],
   "source": [
    "from sklearn.feature_extraction.text import CountVectorizer\n",
    "from collections import Counter\n",
    "import re\n",
    "import spacy\n",
    "# !python -m spacy download en_core_web_sm\n",
    "nlp=spacy.load(\"en_core_web_sm\")"
   ]
  },
  {
   "cell_type": "code",
   "execution_count": 6,
   "metadata": {},
   "outputs": [],
   "source": [
    "doc=\"\"\"\n",
    "Defining text length is quite obvious: it’s how long your text is. But, why does it matter? Well, you have a higher chance of ranking in Google if you write long, high-quality blog posts, of 1000 words or more. We’ve also experienced this ourselves; we have written quite some articles that are over 2500 words. They are cornerstone content and they help our organic traffic grow. Here’s how long articles contribute to SEO:\n",
    "\n",
    "When your text is longer, Google has more clues to determine what it is about. The longer your (optimized) text, the more often your focus keyphrase appears. This is no excuse for keyphrase stuffing though! If you optimize your copy naturally, your focus keyphrase will pop up here and there throughout your text. You can also fit in more synonyms and related keyphrases. In a longer post, you can add more headings, links, and images, in which you can also mention the keyphrase. So more content, means more on-topic, high-quality information here.\n",
    "\n",
    "A longer text might also help you rank for multiple long-tail variants of the keyphrase you’ve optimized your text for. That’s because, in a lengthy text, you probably address various topics. Your article, or your other posts that take a deep-dive into the subtopic, will have a chance to turn up in search results for the long-tail variants of your keyphrase. If you do some smart internal linking you can even boost the traffic to the extensive post you’ve written. This will help you drive more organic traffic to your site.\n",
    "\n",
    "Also, if a page consists of few words, Google is more likely to think of it as thin content. All search engines want to provide the best answers to the queries people have. Thin content is less likely to offer a complete answer and satisfy the needs of the public. Consequently, it will probably not rank very high.\n",
    "\n",
    "\n",
    "\n",
    "\n",
    "\n",
    "\n",
    "\n",
    "\"\"\""
   ]
  },
  {
   "cell_type": "code",
   "execution_count": 7,
   "metadata": {},
   "outputs": [],
   "source": [
    "def clean_review(review):\n",
    "    review=review.strip()\n",
    "    review=re.sub('\\n',' ',review)\n",
    "    review=review.lower() # lower case\n",
    "    review=nlp(review)\n",
    "    review=[token for token in review if token.is_stop==False]  # remove stop words\n",
    "    review=[token for token in review if token.is_punct==False]\n",
    "    review=[token.lemma_ if token.lemma_ != \"-PRON-\" else token for token in review]\n",
    "    return review\n",
    "    "
   ]
  },
  {
   "cell_type": "code",
   "execution_count": 8,
   "metadata": {},
   "outputs": [],
   "source": [
    "nlpdoc=clean_review(doc)"
   ]
  },
  {
   "cell_type": "code",
   "execution_count": 9,
   "metadata": {},
   "outputs": [
    {
     "data": {
      "text/plain": [
       "['define',\n",
       " 'text',\n",
       " 'length',\n",
       " 'obvious',\n",
       " 'long',\n",
       " 'text',\n",
       " 'matter',\n",
       " 'high',\n",
       " 'chance',\n",
       " 'rank']"
      ]
     },
     "execution_count": 9,
     "metadata": {},
     "output_type": "execute_result"
    }
   ],
   "source": [
    "nlpdoc[:10]"
   ]
  },
  {
   "cell_type": "code",
   "execution_count": 10,
   "metadata": {
    "tags": []
   },
   "outputs": [],
   "source": [
    "cv=Counter(nlpdoc)\n",
    "# cv"
   ]
  },
  {
   "cell_type": "code",
   "execution_count": 11,
   "metadata": {},
   "outputs": [],
   "source": [
    "# normalize\n",
    "total_words=len(nlpdoc)\n",
    "word_importance=dict(cv)\n",
    "word_importance={k:v/total_words for k,v in word_importance.items()}\n",
    "word_importance=dict(sorted(word_importance.items(),key=lambda x:x[1],reverse=True))"
   ]
  },
  {
   "cell_type": "code",
   "execution_count": 12,
   "metadata": {
    "tags": []
   },
   "outputs": [],
   "source": [
    "\n",
    "# word_importance"
   ]
  },
  {
   "cell_type": "code",
   "execution_count": 13,
   "metadata": {},
   "outputs": [
    {
     "data": {
      "text/plain": [
       "{'\\n\\nA longer text might also help you rank for multiple long tail variants of the keyphrase you’ve optimized your text for': 0.2789115646258503,\n",
       " ' This is no excuse for keyphrase stuffing though! If you optimize your copy naturally, your focus keyphrase will pop up here and there throughout your text': 0.20408163265306123,\n",
       " '\\nDefining text length is quite obvious: it’s how long your text is': 0.17687074829931973,\n",
       " ' Your article, or your other posts that take a deep dive into the subtopic, will have a chance to turn up in search results for the long tail variants of your keyphrase': 0.17006802721088435,\n",
       " ' Here’s how long articles contribute to SEO:\\n\\nWhen your text is longer, Google has more clues to determine what it is about': 0.1292517006802721,\n",
       " ' They are cornerstone content and they help our organic traffic grow': 0.09523809523809522,\n",
       " ' But, why does it matter? Well, you have a higher chance of ranking in Google if you write long, high quality blog posts, of 1000 words or more': 0.08843537414965985,\n",
       " ' If you do some smart internal linking you can even boost the traffic to the extensive post you’ve written': 0.08163265306122448,\n",
       " ' Thin content is less likely to offer a complete answer and satisfy the needs of the public': 0.08163265306122447,\n",
       " ' This will help you drive more organic traffic to your site': 0.06802721088435373,\n",
       " '\\n\\nAlso, if a page consists of few words, Google is more likely to think of it as thin content': 0.06802721088435373,\n",
       " ' The longer your (optimized) text, the more often your focus keyphrase appears': 0.061224489795918366,\n",
       " ' In a longer post, you can add more headings, links, and images, in which you can also mention the keyphrase': 0.061224489795918366,\n",
       " ' Consequently, it will probably not rank very high': 0.061224489795918366,\n",
       " ' So more content, means more on topic, high quality information here': 0.047619047619047616,\n",
       " ' All search engines want to provide the best answers to the queries people have': 0.03401360544217687,\n",
       " ' That’s because, in a lengthy text, you probably address various topics': 0.027210884353741496,\n",
       " ' You can also fit in more synonyms and related keyphrases': 0.013605442176870748,\n",
       " ' We’ve also experienced this ourselves; we have written quite some articles that are over 2500 words': 0.006802721088435374,\n",
       " '\\n\\n\\n\\n\\n\\n\\n\\n': 0}"
      ]
     },
     "execution_count": 13,
     "metadata": {},
     "output_type": "execute_result"
    }
   ],
   "source": [
    "# using original document to replace words with scores instead\n",
    "sentence_dictionary={}\n",
    "for sentence in doc.split('.'):\n",
    "    sentence=re.sub('[.-]',' ',sentence)\n",
    "    score=0\n",
    "    for word in sentence.split():\n",
    "        if word in word_importance:\n",
    "            score+=word_importance[word]\n",
    "    if sentence not in sentence_dictionary.keys():\n",
    "        sentence_dictionary[sentence]=score\n",
    "sentence_dictionary=dict(sorted(sentence_dictionary.items(),key=lambda x:x[1],reverse=True))\n",
    "sentence_dictionary"
   ]
  },
  {
   "cell_type": "code",
   "execution_count": 14,
   "metadata": {},
   "outputs": [],
   "source": [
    "total_sentences=len(doc.strip().split('.'))\n",
    "summary_sentence_count=int(total_sentences*0.3)"
   ]
  },
  {
   "cell_type": "code",
   "execution_count": 15,
   "metadata": {},
   "outputs": [
    {
     "name": "stdout",
     "output_type": "stream",
     "text": [
      "Total sentences: 20........ Summary Sentences: 6\n",
      "\n",
      "Important Words:\n",
      "long...0.061224489795918366\n",
      "text...0.05442176870748299\n",
      "keyphrase...0.047619047619047616\n",
      "high...0.027210884353741496\n",
      "post...0.027210884353741496\n",
      "content...0.027210884353741496\n",
      "rank...0.02040816326530612\n",
      "google...0.02040816326530612\n",
      "write...0.02040816326530612\n",
      "word...0.02040816326530612\n",
      "article...0.02040816326530612\n",
      "help...0.02040816326530612\n",
      "traffic...0.02040816326530612\n",
      " ...0.02040816326530612\n",
      "optimize...0.02040816326530612\n",
      "\n",
      "SUMMARY \n",
      "\n",
      "A longer text might also help you rank for multiple long tail variants of the keyphrase you’ve optimized your text for. This is no excuse for keyphrase stuffing though! If you optimize your copy naturally, your focus keyphrase will pop up here and there throughout your text.\n",
      "Defining text length is quite obvious: it’s how long your text is. Your article, or your other posts that take a deep dive into the subtopic, will have a chance to turn up in search results for the long tail variants of your keyphrase. Here’s how long articles contribute to SEO:\n",
      "\n",
      "When your text is longer, Google has more clues to determine what it is about. They are cornerstone content and they help our organic traffic grow\n",
      "\n",
      "\n",
      "\n",
      "ORIGINAL \n",
      "Defining text length is quite obvious: it’s how long your text is. But, why does it matter? Well, you have a higher chance of ranking in Google if you write long, high-quality blog posts, of 1000 words or more. We’ve also experienced this ourselves; we have written quite some articles that are over 2500 words. They are cornerstone content and they help our organic traffic grow. Here’s how long articles contribute to SEO:\n",
      "\n",
      "When your text is longer, Google has more clues to determine what it is about. The longer your (optimized) text, the more often your focus keyphrase appears. This is no excuse for keyphrase stuffing though! If you optimize your copy naturally, your focus keyphrase will pop up here and there throughout your text. You can also fit in more synonyms and related keyphrases. In a longer post, you can add more headings, links, and images, in which you can also mention the keyphrase. So more content, means more on-topic, high-quality information here.\n",
      "\n",
      "A longer text might also help you rank for multiple long-tail variants of the keyphrase you’ve optimized your text for. That’s because, in a lengthy text, you probably address various topics. Your article, or your other posts that take a deep-dive into the subtopic, will have a chance to turn up in search results for the long-tail variants of your keyphrase. If you do some smart internal linking you can even boost the traffic to the extensive post you’ve written. This will help you drive more organic traffic to your site.\n",
      "\n",
      "Also, if a page consists of few words, Google is more likely to think of it as thin content. All search engines want to provide the best answers to the queries people have. Thin content is less likely to offer a complete answer and satisfy the needs of the public. Consequently, it will probably not rank very high.\n",
      "\n",
      "\n",
      "\n",
      "\n",
      "\n",
      "\n",
      "\n",
      "\n"
     ]
    }
   ],
   "source": [
    "reordered_document=sentence_dictionary.keys()\n",
    "reordered_document=list(reordered_document)[:summary_sentence_count]\n",
    "summary='.'.join(reordered_document)\n",
    "print(f'Total sentences: {total_sentences}........ Summary Sentences: {summary_sentence_count}')\n",
    "print('\\nImportant Words:')\n",
    "for word,score in list(word_importance.items())[:15]:\n",
    "    print(f'{word}...{score}')\n",
    "print('\\nSUMMARY',summary)\n",
    "print('\\n\\n\\nORIGINAL',doc)"
   ]
  },
  {
   "cell_type": "code",
   "execution_count": null,
   "metadata": {},
   "outputs": [],
   "source": []
  }
 ],
 "metadata": {
  "kernelspec": {
   "display_name": "Python 3 (ipykernel)",
   "language": "python",
   "name": "python3"
  },
  "language_info": {
   "codemirror_mode": {
    "name": "ipython",
    "version": 3
   },
   "file_extension": ".py",
   "mimetype": "text/x-python",
   "name": "python",
   "nbconvert_exporter": "python",
   "pygments_lexer": "ipython3",
   "version": "3.7.11"
  }
 },
 "nbformat": 4,
 "nbformat_minor": 4
}
