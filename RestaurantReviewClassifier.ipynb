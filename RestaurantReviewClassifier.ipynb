{
 "cells": [
  {
   "cell_type": "code",
   "execution_count": 1,
   "id": "ebfd8075",
   "metadata": {},
   "outputs": [],
   "source": [
    "import spacy\n",
    "import re\n",
    "import pandas as pd\n",
    "from string import punctuation"
   ]
  },
  {
   "cell_type": "code",
   "execution_count": 2,
   "id": "ded897fc",
   "metadata": {},
   "outputs": [],
   "source": [
    "from sklearn.feature_extraction.text import TfidfVectorizer\n",
    "from sklearn.svm import LinearSVC\n",
    "from sklearn.model_selection import train_test_split\n",
    "from sklearn import pipeline\n",
    "from sklearn.metrics import confusion_matrix,classification_report"
   ]
  },
  {
   "cell_type": "code",
   "execution_count": 3,
   "id": "ed109f51",
   "metadata": {},
   "outputs": [],
   "source": [
    "nlp = spacy.load(\"en_core_web_sm\")"
   ]
  },
  {
   "cell_type": "markdown",
   "id": "bb85b1a7",
   "metadata": {},
   "source": [
    "### Data Cleaning"
   ]
  },
  {
   "cell_type": "code",
   "execution_count": 4,
   "id": "d3688286",
   "metadata": {},
   "outputs": [],
   "source": [
    "# Strip\n",
    "# Remove New line character\n",
    "# Apply lower to text\n",
    "# Tokenize\n",
    "# Remove Stop words\n",
    "# Remove punctuations (Use spacy is_punct. in NLTK , we can use regex subsitute re.sub('[^A-Za-z]',' ',review) before tokenization or use string.punctuation)\n",
    "# Get Lemma"
   ]
  },
  {
   "cell_type": "code",
   "execution_count": 5,
   "id": "c0dfcff6",
   "metadata": {},
   "outputs": [],
   "source": [
    "def clean_review(review):\n",
    "    review=review.strip()\n",
    "    review=re.sub('\\n',' ',review)\n",
    "    review=review.lower() # lower case\n",
    "    review=nlp(review)\n",
    "    review=[token for token in review if token.is_stop==False]  # remove stop words\n",
    "    review=[token for token in review if token.is_punct==False]\n",
    "    review=[token.lemma_ if token.lemma_ != \"-PRON-\" else token for token in review]\n",
    "    return review\n",
    "    "
   ]
  },
  {
   "cell_type": "code",
   "execution_count": 6,
   "id": "5d06d96f",
   "metadata": {},
   "outputs": [],
   "source": [
    "df=pd.read_csv('Restaurant_Reviews.tsv',delimiter='\\t')"
   ]
  },
  {
   "cell_type": "code",
   "execution_count": 7,
   "id": "809baa32",
   "metadata": {},
   "outputs": [],
   "source": [
    "X,y=df['Review'],df['Liked']\n",
    "X_train,X_test,y_train,y_test=train_test_split(X,y,test_size=.25,)"
   ]
  },
  {
   "cell_type": "code",
   "execution_count": 8,
   "id": "7e50d643",
   "metadata": {},
   "outputs": [],
   "source": [
    "tfidf=TfidfVectorizer(tokenizer=clean_review)"
   ]
  },
  {
   "cell_type": "code",
   "execution_count": 9,
   "id": "6098905d",
   "metadata": {},
   "outputs": [],
   "source": [
    "svc=LinearSVC()"
   ]
  },
  {
   "cell_type": "code",
   "execution_count": 10,
   "id": "8cb2c090",
   "metadata": {},
   "outputs": [],
   "source": [
    "clf=pipeline.make_pipeline(tfidf,svc)"
   ]
  },
  {
   "cell_type": "code",
   "execution_count": 11,
   "id": "f86a83d4",
   "metadata": {},
   "outputs": [
    {
     "data": {
      "text/plain": [
       "Pipeline(steps=[('tfidfvectorizer',\n",
       "                 TfidfVectorizer(tokenizer=<function clean_review at 0x000001A2DD99E1F8>)),\n",
       "                ('linearsvc', LinearSVC())])"
      ]
     },
     "execution_count": 11,
     "metadata": {},
     "output_type": "execute_result"
    }
   ],
   "source": [
    "clf.fit(X_train,y_train)"
   ]
  },
  {
   "cell_type": "code",
   "execution_count": 12,
   "id": "4fa11831",
   "metadata": {},
   "outputs": [
    {
     "data": {
      "text/plain": [
       "0.8"
      ]
     },
     "execution_count": 12,
     "metadata": {},
     "output_type": "execute_result"
    }
   ],
   "source": [
    "clf.score(X_test,y_test)"
   ]
  },
  {
   "cell_type": "code",
   "execution_count": 13,
   "id": "0672d059",
   "metadata": {},
   "outputs": [
    {
     "data": {
      "text/html": [
       "<div>\n",
       "<style scoped>\n",
       "    .dataframe tbody tr th:only-of-type {\n",
       "        vertical-align: middle;\n",
       "    }\n",
       "\n",
       "    .dataframe tbody tr th {\n",
       "        vertical-align: top;\n",
       "    }\n",
       "\n",
       "    .dataframe thead th {\n",
       "        text-align: right;\n",
       "    }\n",
       "</style>\n",
       "<table border=\"1\" class=\"dataframe\">\n",
       "  <thead>\n",
       "    <tr style=\"text-align: right;\">\n",
       "      <th></th>\n",
       "      <th>Prediction-0</th>\n",
       "      <th>Prediction-1</th>\n",
       "    </tr>\n",
       "  </thead>\n",
       "  <tbody>\n",
       "    <tr>\n",
       "      <th>Actual-0</th>\n",
       "      <td>94</td>\n",
       "      <td>23</td>\n",
       "    </tr>\n",
       "    <tr>\n",
       "      <th>Actual-1</th>\n",
       "      <td>27</td>\n",
       "      <td>106</td>\n",
       "    </tr>\n",
       "  </tbody>\n",
       "</table>\n",
       "</div>"
      ],
      "text/plain": [
       "          Prediction-0  Prediction-1\n",
       "Actual-0            94            23\n",
       "Actual-1            27           106"
      ]
     },
     "execution_count": 13,
     "metadata": {},
     "output_type": "execute_result"
    }
   ],
   "source": [
    "pd.DataFrame(confusion_matrix(y_test,clf.predict(X_test)),index=['Actual-0','Actual-1'],columns=['Prediction-0','Prediction-1'])"
   ]
  },
  {
   "cell_type": "code",
   "execution_count": 14,
   "id": "fea39f99",
   "metadata": {},
   "outputs": [
    {
     "name": "stdout",
     "output_type": "stream",
     "text": [
      "              precision    recall  f1-score   support\n",
      "\n",
      "           0       0.78      0.80      0.79       117\n",
      "           1       0.82      0.80      0.81       133\n",
      "\n",
      "    accuracy                           0.80       250\n",
      "   macro avg       0.80      0.80      0.80       250\n",
      "weighted avg       0.80      0.80      0.80       250\n",
      "\n"
     ]
    }
   ],
   "source": [
    "print(classification_report(y_test,clf.predict(X_test)))"
   ]
  },
  {
   "cell_type": "markdown",
   "id": "48baa627",
   "metadata": {},
   "source": [
    "## Test your own review"
   ]
  },
  {
   "cell_type": "code",
   "execution_count": 15,
   "id": "75c86770",
   "metadata": {},
   "outputs": [],
   "source": [
    "sample=\"\"\"\n",
    "Fit was slightly small, strap was abrasive feeling. Sandals looked good online but looked and felt cheap in person. I’m going back to Olukai...\n",
    "\"\"\""
   ]
  },
  {
   "cell_type": "code",
   "execution_count": 16,
   "id": "d45d7d52",
   "metadata": {},
   "outputs": [
    {
     "name": "stdout",
     "output_type": "stream",
     "text": [
      "Cleaned Text:\n",
      " ['fit', 'slightly', 'small', 'strap', 'abrasive', 'feeling', 'sandal', 'look', 'good', 'online', 'look', 'feel', 'cheap', 'person', 'go', 'olukai']\n",
      "\n",
      "\n",
      "Review was  NEGATIVE\n"
     ]
    }
   ],
   "source": [
    "print('Cleaned Text:\\n',clean_review(sample))\n",
    "print('\\n')\n",
    "print('Review was ','POSITIVE' if clf.predict([sample])==[1] else 'NEGATIVE')"
   ]
  }
 ],
 "metadata": {
  "kernelspec": {
   "display_name": "Python 3 (ipykernel)",
   "language": "python",
   "name": "python3"
  },
  "language_info": {
   "codemirror_mode": {
    "name": "ipython",
    "version": 3
   },
   "file_extension": ".py",
   "mimetype": "text/x-python",
   "name": "python",
   "nbconvert_exporter": "python",
   "pygments_lexer": "ipython3",
   "version": "3.7.11"
  }
 },
 "nbformat": 4,
 "nbformat_minor": 5
}
